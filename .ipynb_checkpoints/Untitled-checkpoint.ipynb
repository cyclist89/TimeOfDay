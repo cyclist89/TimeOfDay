{
 "cells": [
  {
   "cell_type": "code",
   "execution_count": 2,
   "metadata": {
    "collapsed": true
   },
   "outputs": [],
   "source": [
    "import pandas as pd\n",
    "import numpy as np\n",
    "import nflgame"
   ]
  },
  {
   "cell_type": "code",
   "execution_count": null,
   "metadata": {
    "collapsed": false
   },
   "outputs": [],
   "source": [
    "\n",
    "\n",
    "def determine_winner(away_score, home_score, away_team, home_team):\n",
    "    if away_score > home_score:\n",
    "        return away_team\n",
    "    elif home_score > away_score:\n",
    "        return home_team\n",
    "    else:\n",
    "        return 'TIE'\n",
    "\n",
    "s = []\n",
    "for yr in range(2009,2017):\n",
    "    print yr\n",
    "    games = nflgame.games(yr)\n",
    "\n",
    "    for g in games:\n",
    "        r = g.schedule\n",
    "        r.update({'away_score':g.score_away})\n",
    "        r.update({'home_score':g.score_home})\n",
    "        s += [r]\n",
    "\n",
    "all_games = pd.concat([pd.DataFrame.from_dict(x, orient = 'index').T for x in s])\n",
    "all_games['WINNER'] = all_games.apply(lambda x: determine_winner(x['away_score'],x['home_score'], x['away'], x['home']), axis = 1)\n",
    "all_games.to_csv('AllGames.csv', sep = ',', header = True, index = False)"
   ]
  },
  {
   "cell_type": "code",
   "execution_count": 3,
   "metadata": {
    "collapsed": false
   },
   "outputs": [
    {
     "name": "stdout",
     "output_type": "stream",
     "text": [
      "     away  away_score  day         eid  gamekey home  home_score meridiem  \\\n",
      "0     TEN          10   10  2009091000    54467  PIT          13      NaN   \n",
      "1     MIA           7   13  2009091300    54468  ATL          19      NaN   \n",
      "2      KC          24   13  2009091301    54469  BAL          38      NaN   \n",
      "3     PHI          38   13  2009091302    54470  CAR          10      NaN   \n",
      "4     DEN          12   13  2009091303    54471  CIN           7      NaN   \n",
      "5     MIN          34   13  2009091304    54472  CLE          20      NaN   \n",
      "6     NYJ          24   13  2009091305    54473  HOU           7      NaN   \n",
      "7     JAC          12   13  2009091306    54474  IND          14      NaN   \n",
      "8     DET          27   13  2009091307    54475   NO          45      NaN   \n",
      "9     DAL          34   13  2009091308    54476   TB          21      NaN   \n",
      "10     SF          20   13  2009091309    54477  ARI          16      NaN   \n",
      "11    WAS          17   13  2009091310    54478  NYG          23      NaN   \n",
      "12    STL           0   13  2009091311    54479  SEA          28      NaN   \n",
      "13    CHI          15   13  2009091312    54480   GB          21      NaN   \n",
      "14    BUF          24   14  2009091400    54481   NE          25      NaN   \n",
      "15     SD          24   14  2009091401    54482  OAK          20      NaN   \n",
      "16    CAR          20   20  2009092000    54483  ATL          28      NaN   \n",
      "17    MIN          27   20  2009092001    54484  DET          13      NaN   \n",
      "18    CIN          31   20  2009092002    54485   GB          24      NaN   \n",
      "19    ARI          31   20  2009092003    54486  JAC          17      NaN   \n",
      "20    OAK          13   20  2009092004    54487   KC          10      NaN   \n",
      "21     NE           9   20  2009092005    54488  NYJ          16      NaN   \n",
      "22     NO          48   20  2009092006    54489  PHI          22      NaN   \n",
      "23    HOU          34   20  2009092007    54490  TEN          31      NaN   \n",
      "24    STL           7   20  2009092008    54491  WAS           9      NaN   \n",
      "25     TB          20   20  2009092009    54492  BUF          33      NaN   \n",
      "26    SEA          10   20  2009092010    54493   SF          23      NaN   \n",
      "27    PIT          14   20  2009092011    54494  CHI          17      NaN   \n",
      "28    CLE           6   20  2009092012    54495  DEN          27      NaN   \n",
      "29    BAL          31   20  2009092013    54496   SD          26      NaN   \n",
      "...   ...         ...  ...         ...      ...  ...         ...      ...   \n",
      "2002  PHI          26   18  2016121800    57111  BAL          27       PM   \n",
      "2003  CLE          13   18  2016121801    57112  BUF          33       PM   \n",
      "2004   GB          30   18  2016121802    57113  CHI          27       PM   \n",
      "2005   TB          20   18  2016121803    57114  DAL          26       PM   \n",
      "2006  JAX          20   18  2016121804    57115  HOU          21       PM   \n",
      "2007  TEN          19   18  2016121805    57116   KC          17       PM   \n",
      "2008  IND          34   18  2016121806    57117  MIN           6       PM   \n",
      "2009  DET           6   18  2016121807    57118  NYG          17       PM   \n",
      "2010   NO          48   18  2016121808    57119  ARI          41       PM   \n",
      "2011   SF          13   18  2016121809    57120  ATL          41       PM   \n",
      "2012   NE          16   18  2016121810    57121  DEN           3       PM   \n",
      "2013  OAK          19   18  2016121811    57122   SD          16       PM   \n",
      "2014  PIT          24   18  2016121812    57123  CIN          20       PM   \n",
      "2015  CAR          26   19  2016121900    57124  WAS          15       PM   \n",
      "2016  NYG          19   22  2016122200    57125  PHI          24       PM   \n",
      "2017  MIA          34   24  2016122400    57126  BUF          31       PM   \n",
      "2018  ATL          33   24  2016122401    57127  CAR          16       PM   \n",
      "2019  WAS          41   24  2016122402    57128  CHI          21       PM   \n",
      "2020   SD          17   24  2016122403    57129  CLE          20       PM   \n",
      "2021  MIN          25   24  2016122404    57130   GB          38       PM   \n",
      "2022  TEN          17   24  2016122405    57131  JAX          38       PM   \n",
      "2023  NYJ           3   24  2016122406    57132   NE          41       PM   \n",
      "2024   TB          24   24  2016122407    57133   NO          31       PM   \n",
      "2025  IND          25   24  2016122408    57134  OAK          33       PM   \n",
      "2026   SF          22   24  2016122409    57135   LA          21       PM   \n",
      "2027  ARI          34   24  2016122410    57136  SEA          31       PM   \n",
      "2028  CIN          10   24  2016122411    57137  HOU          12       PM   \n",
      "2029  BAL          27   25  2016122500    57138  PIT          31       PM   \n",
      "2030  DEN          10   25  2016122501    57139   KC          33       PM   \n",
      "2031  DET          21   26  2016122600    57140  DAL          42       PM   \n",
      "\n",
      "      month season_type   time wday  week  year WINNER  \n",
      "0         9         REG   8:30  Thu     1  2009    PIT  \n",
      "1         9         REG   1:00  Sun     1  2009    ATL  \n",
      "2         9         REG   1:00  Sun     1  2009    BAL  \n",
      "3         9         REG   1:00  Sun     1  2009    PHI  \n",
      "4         9         REG   1:00  Sun     1  2009    DEN  \n",
      "5         9         REG   1:00  Sun     1  2009    MIN  \n",
      "6         9         REG   1:00  Sun     1  2009    NYJ  \n",
      "7         9         REG   1:00  Sun     1  2009    IND  \n",
      "8         9         REG   1:00  Sun     1  2009     NO  \n",
      "9         9         REG   1:00  Sun     1  2009    DAL  \n",
      "10        9         REG   4:15  Sun     1  2009     SF  \n",
      "11        9         REG   4:15  Sun     1  2009    NYG  \n",
      "12        9         REG   4:15  Sun     1  2009    SEA  \n",
      "13        9         REG   8:20  Sun     1  2009     GB  \n",
      "14        9         REG   7:00  Mon     1  2009     NE  \n",
      "15        9         REG  10:15  Mon     1  2009     SD  \n",
      "16        9         REG   1:00  Sun     2  2009    ATL  \n",
      "17        9         REG   1:00  Sun     2  2009    MIN  \n",
      "18        9         REG   1:00  Sun     2  2009    CIN  \n",
      "19        9         REG   1:00  Sun     2  2009    ARI  \n",
      "20        9         REG   1:00  Sun     2  2009    OAK  \n",
      "21        9         REG   1:00  Sun     2  2009    NYJ  \n",
      "22        9         REG   1:00  Sun     2  2009     NO  \n",
      "23        9         REG   1:00  Sun     2  2009    HOU  \n",
      "24        9         REG   1:00  Sun     2  2009    WAS  \n",
      "25        9         REG   4:05  Sun     2  2009    BUF  \n",
      "26        9         REG   4:05  Sun     2  2009     SF  \n",
      "27        9         REG   4:15  Sun     2  2009    CHI  \n",
      "28        9         REG   4:15  Sun     2  2009    DEN  \n",
      "29        9         REG   4:15  Sun     2  2009    BAL  \n",
      "...     ...         ...    ...  ...   ...   ...    ...  \n",
      "2002     12         REG   1:00  Sun    15  2016    BAL  \n",
      "2003     12         REG   1:00  Sun    15  2016    BUF  \n",
      "2004     12         REG   1:00  Sun    15  2016     GB  \n",
      "2005     12         REG   8:30  Sun    15  2016    DAL  \n",
      "2006     12         REG   1:00  Sun    15  2016    HOU  \n",
      "2007     12         REG   1:00  Sun    15  2016    TEN  \n",
      "2008     12         REG   1:00  Sun    15  2016    IND  \n",
      "2009     12         REG   1:00  Sun    15  2016    NYG  \n",
      "2010     12         REG   4:05  Sun    15  2016     NO  \n",
      "2011     12         REG   4:05  Sun    15  2016    ATL  \n",
      "2012     12         REG   4:25  Sun    15  2016     NE  \n",
      "2013     12         REG   4:25  Sun    15  2016    OAK  \n",
      "2014     12         REG   1:00  Sun    15  2016    PIT  \n",
      "2015     12         REG   8:30  Mon    15  2016    CAR  \n",
      "2016     12         REG   8:25  Thu    16  2016    PHI  \n",
      "2017     12         REG   1:00  Sat    16  2016    MIA  \n",
      "2018     12         REG   1:00  Sat    16  2016    ATL  \n",
      "2019     12         REG   1:00  Sat    16  2016    WAS  \n",
      "2020     12         REG   1:00  Sat    16  2016    CLE  \n",
      "2021     12         REG   1:00  Sat    16  2016     GB  \n",
      "2022     12         REG   1:00  Sat    16  2016    JAX  \n",
      "2023     12         REG   1:00  Sat    16  2016     NE  \n",
      "2024     12         REG   4:25  Sat    16  2016     NO  \n",
      "2025     12         REG   4:05  Sat    16  2016    OAK  \n",
      "2026     12         REG   4:25  Sat    16  2016     SF  \n",
      "2027     12         REG   4:25  Sat    16  2016    ARI  \n",
      "2028     12         REG   8:25  Sat    16  2016    HOU  \n",
      "2029     12         REG   4:30  Sun    16  2016    PIT  \n",
      "2030     12         REG   8:30  Sun    16  2016     KC  \n",
      "2031     12         REG   8:30  Mon    16  2016    DAL  \n",
      "\n",
      "[2032 rows x 15 columns]\n"
     ]
    }
   ],
   "source": [
    "\n",
    "all_games = pd.read_csv('AllGames.csv')\n",
    "print all_games"
   ]
  },
  {
   "cell_type": "code",
   "execution_count": null,
   "metadata": {
    "collapsed": false
   },
   "outputs": [],
   "source": [
    "print sea"
   ]
  },
  {
   "cell_type": "code",
   "execution_count": null,
   "metadata": {
    "collapsed": false
   },
   "outputs": [],
   "source": []
  },
  {
   "cell_type": "code",
   "execution_count": null,
   "metadata": {
    "collapsed": false
   },
   "outputs": [],
   "source": []
  },
  {
   "cell_type": "code",
   "execution_count": 5,
   "metadata": {
    "collapsed": false
   },
   "outputs": [
    {
     "name": "stdout",
     "output_type": "stream",
     "text": [
      "(64, 15)\n",
      "(63, 15)\n",
      "   time  WINNER  ALLSEA_WIN  ALLnum_wins  ALLnum_loss  ALLwin_pct  \\\n",
      "0  1:00      31          31           13         18.0    0.419355   \n",
      "1  4:05      32          32           16         16.0    0.500000   \n",
      "2  4:15      17          17            8          9.0    0.470588   \n",
      "3  4:25      24          24           18          6.0    0.750000   \n",
      "4  8:20       4           4            3          1.0    0.750000   \n",
      "5  8:25       3           3            3          0.0    1.000000   \n",
      "6  8:30      14          14           11          3.0    0.785714   \n",
      "7  8:40       2           2            2          0.0    1.000000   \n",
      "\n",
      "   ALLloss_pct  ALLnum_games  \n",
      "0     0.580645            31  \n",
      "1     0.500000            32  \n",
      "2     0.529412            17  \n",
      "3     0.250000            24  \n",
      "4     0.250000             4  \n",
      "5     0.000000             3  \n",
      "6     0.214286            14  \n",
      "7     0.000000             2  \n"
     ]
    }
   ],
   "source": [
    "sea_home = all_games[all_games['home'] == 'SEA']\n",
    "sea_away = all_games[all_games['away'] == 'SEA']\n",
    "\n",
    "print sea_home.shape\n",
    "print sea_away.shape\n",
    "\n",
    "sea = pd.concat([sea_home, sea_away], ignore_index = True)\n",
    "sea['SEA_WIN'] = sea['WINNER'].apply(lambda x: 1 if x == 'SEA' else 0)\n",
    "\n",
    "c = sea.groupby(['time'], as_index = False).count()\n",
    "w = sea[sea['SEA_WIN'] == 1].groupby(['time'], as_index = False).count()\n",
    "l = sea[sea['SEA_WIN'] == 0].groupby(['time'], as_index = False).count()\n",
    "\n",
    "w['num_wins'] = w['SEA_WIN']\n",
    "l['num_loss'] = l['SEA_WIN']\n",
    "k = pd.merge(c, w[['time','num_wins']], left_on = 'time', right_on = 'time', how = 'left')\n",
    "k = pd.merge(k, l[['time','num_loss']], left_on = 'time', right_on = 'time', how = 'left')\n",
    "k['win_pct'] = k['num_wins'] / k['SEA_WIN']\n",
    "k['loss_pct'] = k['num_loss'] / k['SEA_WIN']\n",
    "k['num_games'] = k['SEA_WIN']\n",
    "k.fillna(0, inplace = True)\n",
    "\n",
    "for i in k.columns[15:]:\n",
    "    k.rename(columns={i:str('ALL' + i)}, inplace=True)\n",
    "k = k.drop(k.columns[1:14], 1)\n",
    "print k"
   ]
  },
  {
   "cell_type": "code",
   "execution_count": 6,
   "metadata": {
    "collapsed": false
   },
   "outputs": [
    {
     "name": "stdout",
     "output_type": "stream",
     "text": [
      "   time  WINNER  HOMESEA_WIN  HOMEnum_wins  HOMEnum_loss  HOMEwin_pct  \\\n",
      "0  4:05      22           22            13           9.0     0.590909   \n",
      "1  4:15      11           11             7           4.0     0.636364   \n",
      "2  4:25      18           18            15           3.0     0.833333   \n",
      "3  8:20       3            3             3           0.0     1.000000   \n",
      "4  8:25       1            1             1           0.0     1.000000   \n",
      "5  8:30       8            8             7           1.0     0.875000   \n",
      "6  8:40       1            1             1           0.0     1.000000   \n",
      "\n",
      "   HOMEloss_pct  HOMEnum_games  \n",
      "0      0.409091             22  \n",
      "1      0.363636             11  \n",
      "2      0.166667             18  \n",
      "3      0.000000              3  \n",
      "4      0.000000              1  \n",
      "5      0.125000              8  \n",
      "6      0.000000              1  \n"
     ]
    },
    {
     "name": "stderr",
     "output_type": "stream",
     "text": [
      "/Users/kelly89/anaconda2/lib/python2.7/site-packages/ipykernel/__main__.py:2: SettingWithCopyWarning: \n",
      "A value is trying to be set on a copy of a slice from a DataFrame.\n",
      "Try using .loc[row_indexer,col_indexer] = value instead\n",
      "\n",
      "See the caveats in the documentation: http://pandas.pydata.org/pandas-docs/stable/indexing.html#indexing-view-versus-copy\n",
      "  from ipykernel import kernelapp as app\n"
     ]
    }
   ],
   "source": [
    "sea = all_games[all_games['home'] == 'SEA']\n",
    "sea['SEA_WIN'] = sea['WINNER'].apply(lambda x: 1 if x == 'SEA' else 0)\n",
    "\n",
    "c = sea.groupby(['time'], as_index = False).count()\n",
    "w = sea[sea['SEA_WIN'] == 1].groupby(['time'], as_index = False).count()\n",
    "l = sea[sea['SEA_WIN'] == 0].groupby(['time'], as_index = False).count()\n",
    "\n",
    "w['num_wins'] = w['SEA_WIN']\n",
    "l['num_loss'] = l['SEA_WIN']\n",
    "k = pd.merge(c, w[['time','num_wins']], left_on = 'time', right_on = 'time', how = 'left')\n",
    "k = pd.merge(k, l[['time','num_loss']], left_on = 'time', right_on = 'time', how = 'left')\n",
    "k['win_pct'] = k['num_wins'] / k['SEA_WIN']\n",
    "k['loss_pct'] = k['num_loss'] / k['SEA_WIN']\n",
    "k['num_games'] = k['SEA_WIN']\n",
    "k.fillna(0, inplace = True)\n",
    "\n",
    "for i in k.columns[15:]:\n",
    "    k.rename(columns={i:str('HOME' + i)}, inplace=True)\n",
    "k = k.drop(k.columns[1:14], 1)\n",
    "print k\n"
   ]
  },
  {
   "cell_type": "code",
   "execution_count": 4,
   "metadata": {
    "collapsed": false
   },
   "outputs": [
    {
     "name": "stdout",
     "output_type": "stream",
     "text": [
      "   time  WINNER  AWAYSEA_WIN  AWAYnum_wins  AWAYnum_loss  AWAYwin_pct  \\\n",
      "0  1:00      31           31          13.0          18.0     0.419355   \n",
      "1  4:05      10           10           3.0           7.0     0.300000   \n",
      "2  4:15       6            6           1.0           5.0     0.166667   \n",
      "3  4:25       6            6           3.0           3.0     0.500000   \n",
      "4  8:20       1            1           0.0           1.0     0.000000   \n",
      "5  8:25       2            2           2.0           0.0     1.000000   \n",
      "6  8:30       6            6           4.0           2.0     0.666667   \n",
      "7  8:40       1            1           1.0           0.0     1.000000   \n",
      "\n",
      "   AWAYloss_pct  AWAYnum_games  \n",
      "0      0.580645             31  \n",
      "1      0.700000             10  \n",
      "2      0.833333              6  \n",
      "3      0.500000              6  \n",
      "4      1.000000              1  \n",
      "5      0.000000              2  \n",
      "6      0.333333              6  \n",
      "7      0.000000              1  \n"
     ]
    },
    {
     "name": "stderr",
     "output_type": "stream",
     "text": [
      "/Users/kelly89/anaconda2/lib/python2.7/site-packages/ipykernel/__main__.py:2: SettingWithCopyWarning: \n",
      "A value is trying to be set on a copy of a slice from a DataFrame.\n",
      "Try using .loc[row_indexer,col_indexer] = value instead\n",
      "\n",
      "See the caveats in the documentation: http://pandas.pydata.org/pandas-docs/stable/indexing.html#indexing-view-versus-copy\n",
      "  from ipykernel import kernelapp as app\n"
     ]
    }
   ],
   "source": [
    "sea = all_games[all_games['away'] == 'SEA']\n",
    "sea['SEA_WIN'] = sea['WINNER'].apply(lambda x: 1 if x == 'SEA' else 0)\n",
    "\n",
    "c = sea.groupby(['time'], as_index = False).count()\n",
    "w = sea[sea['SEA_WIN'] == 1].groupby(['time'], as_index = False).count()\n",
    "l = sea[sea['SEA_WIN'] == 0].groupby(['time'], as_index = False).count()\n",
    "\n",
    "w['num_wins'] = w['SEA_WIN']\n",
    "l['num_loss'] = l['SEA_WIN']\n",
    "k = pd.merge(c, w[['time','num_wins']], left_on = 'time', right_on = 'time', how = 'left')\n",
    "k = pd.merge(k, l[['time','num_loss']], left_on = 'time', right_on = 'time', how = 'left')\n",
    "k['win_pct'] = k['num_wins'] / k['SEA_WIN']\n",
    "k['loss_pct'] = k['num_loss'] / k['SEA_WIN']\n",
    "k['num_games'] = k['SEA_WIN']\n",
    "k.fillna(0, inplace = True)\n",
    "\n",
    "for i in k.columns[15:]:\n",
    "    k.rename(columns={i:str('AWAY' + i)}, inplace=True)\n",
    "k = k.drop(k.columns[1:14], 1)\n",
    "print k\n",
    "#print k[['time','win_pct','num_wins','num_loss','num_games']]"
   ]
  },
  {
   "cell_type": "code",
   "execution_count": null,
   "metadata": {
    "collapsed": true
   },
   "outputs": [],
   "source": []
  }
 ],
 "metadata": {
  "anaconda-cloud": {},
  "kernelspec": {
   "display_name": "Python [Root]",
   "language": "python",
   "name": "Python [Root]"
  },
  "language_info": {
   "codemirror_mode": {
    "name": "ipython",
    "version": 2
   },
   "file_extension": ".py",
   "mimetype": "text/x-python",
   "name": "python",
   "nbconvert_exporter": "python",
   "pygments_lexer": "ipython2",
   "version": "2.7.12"
  }
 },
 "nbformat": 4,
 "nbformat_minor": 0
}
